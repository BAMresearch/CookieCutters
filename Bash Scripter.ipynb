{
 "cells": [
  {
   "cell_type": "code",
   "execution_count": 44,
   "metadata": {},
   "outputs": [
    {
     "name": "stdout",
     "output_type": "stream",
     "text": [
      "openscad -o H.stl -D \"atomicnum=\\\"1\"\\\" -D \"element=\\\"H\"\\\" -D \"atomicwght=\\\"1.01\"\\\"  Grundmodell.scad \n"
     ]
    }
   ],
   "source": [
    "import os\n",
    "import sys\n",
    "import numpy as np\n",
    "import pandas as pd\n",
    "\n",
    "\n",
    "def bash_scripter():\n",
    "    pse = pd.read_csv(\"PSE.csv\", #index_col = \"AtomicNumber\"\n",
    "                     )\n",
    "    #pse = pse.transpose()    \n",
    "    for index, row in pse.iterrows():\n",
    "        atom_num, symbol, mass = row[\"AtomicNumber\"], row['Symbol'], row['AtomicMass']\n",
    "        mass = round(mass, 2)\n",
    "        #print(row[\"AtomicNumber\"], row['Symbol'], row['AtomicMass'])\n",
    "        openscad = \"openscad -o \" # Call OpenSCAD\n",
    "        filename = \".stl \"\n",
    "        option = \"-D \" #enables option to change parameter\n",
    "        \n",
    "        atomicnum = \"\\\"atomicnum=\\\\\" + \"\\\"\" + str(atom_num) + \"\\\"\" + \"\\\\\\\" \" #String for atomicnum in OpenSCAD file\n",
    "        element = \"\\\"element=\\\\\"\"\" + \"\\\"\" + str(symbol) + \"\\\"\"  + \"\\\\\\\" \" # String for element name in OpenSCAD file\n",
    "        atomicweight = \"\\\"atomicwght=\\\\\"\"\" + \"\\\"\" + str(mass) + \"\\\"\"  + \"\\\\\\\" \"  # String for atomic weight in OpenSCAD file\n",
    "        \n",
    "        scad_model = \" Grundmodell.scad \" #OpenSCAD filename of your model \n",
    "        \n",
    "        \n",
    "        bashline = openscad + str(symbol) + filename + option + atomicnum + option + element  + option + atomicweight + scad_model\n",
    "        \n",
    "        print(bashline)\n",
    "        os.system(bashline)\n",
    "        \n",
    "    # openscad -o Re.stl -D \"atomicnum=\\\"2\"\\\" Grundmodell.scad  \n",
    "    \n",
    "bash_scripter() "
   ]
  },
  {
   "cell_type": "code",
   "execution_count": null,
   "metadata": {},
   "outputs": [],
   "source": []
  }
 ],
 "metadata": {
  "kernelspec": {
   "display_name": "Python 3",
   "language": "python",
   "name": "python3"
  },
  "language_info": {
   "codemirror_mode": {
    "name": "ipython",
    "version": 3
   },
   "file_extension": ".py",
   "mimetype": "text/x-python",
   "name": "python",
   "nbconvert_exporter": "python",
   "pygments_lexer": "ipython3",
   "version": "3.8.1"
  }
 },
 "nbformat": 4,
 "nbformat_minor": 2
}
